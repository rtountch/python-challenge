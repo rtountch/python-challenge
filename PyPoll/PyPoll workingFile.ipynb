{
 "cells": [
  {
   "cell_type": "code",
   "execution_count": null,
   "metadata": {},
   "outputs": [],
   "source": [
    "# the working file"
   ]
  },
  {
   "cell_type": "code",
   "execution_count": 47,
   "metadata": {},
   "outputs": [
    {
     "name": "stdout",
     "output_type": "stream",
     "text": [
      "Election Results\n",
      "------------------------------\n",
      "Total Votes 3521001\n",
      "------------------------------\n",
      "Khan:      \t63%\t(2218231)\n",
      "Correy:      \t20%\t(704200)\n",
      "Li:      \t14%\t(492940)\n",
      "O'Tooley:      \t3%\t(105630)\n",
      "------------------------------\n",
      "Winner:  Khan\n",
      "------------------------------\n"
     ]
    }
   ],
   "source": [
    "import os\n",
    "import csv\n",
    "\n",
    "c_csv = os.path.join(\"election_data.csv\")\n",
    "#print(c_csv)\n",
    "\n",
    "csv_list = []\n",
    "with open(c_csv, newline=\"\") as csvfile:\n",
    "    csvreader = csv.reader(csvfile, delimiter=\",\")\n",
    "    csv_header = next(csvfile)\n",
    "    for row in csvreader:\n",
    "        csv_list.append(row)\n",
    "\n",
    "    \n",
    "Candidates = list() # a list to contain the list of candidates and relevant statistics\n",
    "\n",
    "# print(\"I am here\")\n",
    "for row in csv_list:\n",
    "    \n",
    "    unique = \"y\"\n",
    "    unique_record = []\n",
    "    \n",
    "    for j in Candidates:\n",
    "        if j[0] == row[2]:\n",
    "            unique = \"n\"\n",
    "            j[1]=j[1]+1\n",
    "            j[2]=round(j[1]/len(csv_list),2)\n",
    "    \n",
    "    if unique == \"y\":\n",
    "        unique_record = [row[2],1,0] # candidate name, total votes, % votes\n",
    "        Candidates.append(unique_record)\n",
    "     \n",
    "lines = []\n",
    "    \n",
    "lines.append(\"Election Results\")\n",
    "print(\"Election Results\")\n",
    "\n",
    "lines.append(\"------------------------------\")\n",
    "print(\"------------------------------\") \n",
    "\n",
    "lines.append(\"Total Votes\" + str(len(csv_list)))\n",
    "print(\"Total Votes\", len(csv_list))\n",
    "\n",
    "lines.append(\"------------------------------\")\n",
    "print(\"------------------------------\") \n",
    "\n",
    "\n",
    "Winner = Candidates[0]\n",
    "\n",
    "for c in Candidates:\n",
    "    new_line = c[0]+\":\"+ \"      \\t\"+ str(\"{0:.0%}\".format(c[2]))+ \"\\t\"+ \"(\"+ str(c[1])+\")\"\n",
    "    print(new_line)\n",
    "    lines.append(new_line)\n",
    "    #print(c[0],\":\", \"   \\t\", \"{0:.0%}\".format(c[2]), \"\\t\", \"(\", c[1],\")\")\n",
    "    if(c[2] > Winner[2]):\n",
    "        Winner = c\n",
    "\n",
    "lines.append(\"------------------------------\")       \n",
    "print(\"------------------------------\") \n",
    "\n",
    "lines.append(\"Winner: \" + Winner[0])\n",
    "print(\"Winner: \",Winner[0])\n",
    "\n",
    "lines.append(\"------------------------------\")  \n",
    "print(\"------------------------------\") \n",
    "\n",
    "\n",
    "\n",
    "with open('solution_data.txt', mode='wt', encoding='utf-8') as myfile:\n",
    "    myfile.write('\\n'.join(lines))\n",
    "    "
   ]
  },
  {
   "cell_type": "code",
   "execution_count": null,
   "metadata": {},
   "outputs": [],
   "source": []
  },
  {
   "cell_type": "code",
   "execution_count": null,
   "metadata": {},
   "outputs": [],
   "source": []
  },
  {
   "cell_type": "code",
   "execution_count": null,
   "metadata": {},
   "outputs": [],
   "source": []
  },
  {
   "cell_type": "code",
   "execution_count": null,
   "metadata": {},
   "outputs": [],
   "source": []
  },
  {
   "cell_type": "code",
   "execution_count": null,
   "metadata": {},
   "outputs": [],
   "source": []
  },
  {
   "cell_type": "code",
   "execution_count": null,
   "metadata": {},
   "outputs": [],
   "source": []
  },
  {
   "cell_type": "code",
   "execution_count": null,
   "metadata": {},
   "outputs": [],
   "source": []
  },
  {
   "cell_type": "code",
   "execution_count": null,
   "metadata": {},
   "outputs": [],
   "source": []
  },
  {
   "cell_type": "code",
   "execution_count": null,
   "metadata": {},
   "outputs": [],
   "source": []
  },
  {
   "cell_type": "code",
   "execution_count": null,
   "metadata": {},
   "outputs": [],
   "source": []
  },
  {
   "cell_type": "code",
   "execution_count": null,
   "metadata": {},
   "outputs": [],
   "source": []
  },
  {
   "cell_type": "code",
   "execution_count": null,
   "metadata": {},
   "outputs": [],
   "source": []
  },
  {
   "cell_type": "code",
   "execution_count": null,
   "metadata": {},
   "outputs": [],
   "source": []
  },
  {
   "cell_type": "code",
   "execution_count": null,
   "metadata": {},
   "outputs": [],
   "source": []
  },
  {
   "cell_type": "code",
   "execution_count": null,
   "metadata": {},
   "outputs": [],
   "source": []
  },
  {
   "cell_type": "code",
   "execution_count": null,
   "metadata": {},
   "outputs": [],
   "source": []
  },
  {
   "cell_type": "code",
   "execution_count": null,
   "metadata": {},
   "outputs": [],
   "source": []
  },
  {
   "cell_type": "code",
   "execution_count": null,
   "metadata": {},
   "outputs": [],
   "source": []
  },
  {
   "cell_type": "code",
   "execution_count": null,
   "metadata": {},
   "outputs": [],
   "source": []
  },
  {
   "cell_type": "code",
   "execution_count": null,
   "metadata": {},
   "outputs": [],
   "source": []
  },
  {
   "cell_type": "code",
   "execution_count": null,
   "metadata": {},
   "outputs": [],
   "source": []
  }
 ],
 "metadata": {
  "kernelspec": {
   "display_name": "Python 3",
   "language": "python",
   "name": "python3"
  },
  "language_info": {
   "codemirror_mode": {
    "name": "ipython",
    "version": 3
   },
   "file_extension": ".py",
   "mimetype": "text/x-python",
   "name": "python",
   "nbconvert_exporter": "python",
   "pygments_lexer": "ipython3",
   "version": "3.7.3"
  }
 },
 "nbformat": 4,
 "nbformat_minor": 4
}
